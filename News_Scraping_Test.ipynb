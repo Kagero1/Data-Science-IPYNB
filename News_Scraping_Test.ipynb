{
  "nbformat": 4,
  "nbformat_minor": 0,
  "metadata": {
    "colab": {
      "name": "News Scraping Test",
      "provenance": []
    },
    "kernelspec": {
      "name": "python3",
      "display_name": "Python 3"
    }
  },
  "cells": [
    {
      "cell_type": "code",
      "metadata": {
        "colab": {
          "base_uri": "https://localhost:8080/"
        },
        "id": "WM_m_1Y63pcq",
        "outputId": "4b347028-ea84-4016-b184-272667b7a667"
      },
      "source": [
        "import requests\r\n",
        "\r\n",
        "r=requests.get(\"https://www.philstar.com/\")\r\n",
        "\r\n",
        "r.status_code"
      ],
      "execution_count": 5,
      "outputs": [
        {
          "output_type": "execute_result",
          "data": {
            "text/plain": [
              "200"
            ]
          },
          "metadata": {
            "tags": []
          },
          "execution_count": 5
        }
      ]
    },
    {
      "cell_type": "code",
      "metadata": {
        "id": "T1MjBbNF_BmS"
      },
      "source": [
        "!pip install selenium\r\n",
        "!apt-get update \r\n",
        "!apt install chromium-chromedriver"
      ],
      "execution_count": null,
      "outputs": []
    },
    {
      "cell_type": "code",
      "metadata": {
        "colab": {
          "base_uri": "https://localhost:8080/"
        },
        "id": "QyuKdOEZ9crQ",
        "outputId": "b848e575-dc2d-4332-8b3a-d72b09de1059"
      },
      "source": [
        "import time\r\n",
        "\r\n",
        "from selenium import webdriver\r\n",
        "from selenium.webdriver.common.keys import Keys\r\n",
        "\r\n",
        "chrome_options = webdriver.ChromeOptions()\r\n",
        "chrome_options.add_argument('--headless')\r\n",
        "chrome_options.add_argument('--no-sandbox')\r\n",
        "chrome_options.add_argument('--disable-dev-shm-usage')\r\n",
        "browser = webdriver.Chrome('chromedriver',chrome_options=chrome_options)"
      ],
      "execution_count": 104,
      "outputs": [
        {
          "output_type": "stream",
          "text": [
            "/usr/local/lib/python3.7/dist-packages/ipykernel_launcher.py:10: DeprecationWarning: use options instead of chrome_options\n",
            "  # Remove the CWD from sys.path while we load stuff.\n"
          ],
          "name": "stderr"
        }
      ]
    },
    {
      "cell_type": "code",
      "metadata": {
        "id": "r_to8zeXAJ1t"
      },
      "source": [
        "browser.get(\"https://www.philstar.com/pilipino-star-ngayon/bansa\")\r\n",
        "time.sleep(1)\r\n",
        "\r\n",
        "elem = browser.find_element_by_tag_name(\"body\")\r\n",
        "\r\n",
        "no_of_pagedowns = 45\r\n",
        "\r\n",
        "while no_of_pagedowns:\r\n",
        "    elem.send_keys(Keys.PAGE_DOWN)\r\n",
        "    elem.send_keys(Keys.PAGE_DOWN)\r\n",
        "    time.sleep(0.5)\r\n",
        "    no_of_pagedowns-=1"
      ],
      "execution_count": 105,
      "outputs": []
    },
    {
      "cell_type": "code",
      "metadata": {
        "colab": {
          "base_uri": "https://localhost:8080/"
        },
        "id": "XfHRkAf4tXNq",
        "outputId": "02155016-ca03-4603-dc32-8f5e0e443526"
      },
      "source": [
        "from selenium.webdriver.common.by import By\r\n",
        "selectors = browser.find_elements_by_class_name(\"microsite_article_wrap\")\r\n",
        "\r\n",
        "elements = []\r\n",
        "for s in selectors:\r\n",
        "  # print(s.text)\r\n",
        "  x = s.text\r\n",
        "  if any(q in x for q in [\"Mar 11\", \"Mar 12\"]):\r\n",
        "    print(\"------------------\\n\" + x)\r\n",
        "    elements.append(s)\r\n",
        "\r\n",
        "# elements"
      ],
      "execution_count": 110,
      "outputs": [
        {
          "output_type": "stream",
          "text": [
            "------------------\n",
            "11 sa 17 Metro Manila LGUs may COVID-19 variant na unang nakita sa UK\n",
            "by James Relativo\n",
            "Mar 12 (6 days ago)\n",
            "Napasok na ng mga mas nakahahawang coronavirus disease (COVID-19) variants ang karamihan sa mga local government units (LGUs) ng National Capital Region (NCR), paglalahad ng Kagawaran ng Kalusugan sa media ngayong Biyernes.\n",
            "Bansa\n",
            "------------------\n",
            "Bagong hawa ng COVID-19 sa 'Pinas nasa 4,578, pinakamataas sa 180 araw\n",
            "Mar 12 (6 days ago)\n",
            "Nakapagtala ng dadag na 4,578 bagong kaso ng coronavirus disease (COVID-19) ngayong Biyernes ang Department of Health (DOH), kung kaya't napatalon na sa 546,912 ang nahahawaan nito ngayon sa Pilipinas.\n",
            "Bansa\n",
            "------------------\n",
            "Eleazar mangunguna sa PNP habang Sinas positibo sa COVID-19\n",
            "Mar 12 (6 days ago)\n",
            "Hahalili muna bilang pinuno ng Philippine National Police (PNP) ang isang top police official pang habang nagpapagaling sa coronavirus disease (COVID-19) ang hepe ng mga alagad ng batas.\n",
            "Bansa\n",
            "------------------\n",
            "Bagong $900-M utang mula dayuhan ibubuhos sa COVID-19 jabs ng Pilipinas\n",
            "by James Relativo\n",
            "Mar 12 (6 days ago)\n",
            "Aabot sa halos $1 bilyong utang mula sa international financial institutions ang natiyak ng Pilipinas para punan ang coronavirus disease (COVID-19) response nito.\n",
            "Bansa\n",
            "------------------\n",
            "UK variant, 40% mas mabilis na makahawa\n",
            "by Danilo Garcia\n",
            "Mar 12 (6 days ago)\n",
            "Higit na nakakaha-wa ng 40 porsyento ang United Kingdom variant ng COVID-19, ayon sa UP-Philippine Genome Center.\n",
            "Bansa\n",
            "------------------\n",
            "30 milyong doses ng Novavax darating sa second o third quarter ng taon\n",
            "by Malou Escudero\n",
            "Mar 12 (6 days ago)\n",
            "Tiniyak kahapon ng ambassador ng India sa Pilipinas na may darating na 30 milyong doses ng bakuna laban sa COVID-19 sa ikalawa o ikatlong quarter ng taon.\n",
            "Bansa\n",
            "------------------\n",
            "Healthcare workers na dinadapuan ng COVID-19, tumataas\n",
            "by Danilo Garcia\n",
            "Mar 12 (6 days ago)\n",
            "Nadaragdagan ang bilang ng mga healthcare workers na dinadapuan ng COVID-19 habang ilang ospital na rin ang nakararanas ng kakapusan sa kanilang COVID beds dahil sa pagdami ng kaso sa lungsod ng Maynila.\n",
            "Bansa\n",
            "------------------\n",
            "P10 bilyong dagdag budget hingi ng OWWA sa quarantine hotels ng returning OFWs\n",
            "by Ludy Bermudo\n",
            "Mar 12 (6 days ago)\n",
            "Humihingi ng P10-bilyong dagdag budget sa Kongreso ang Overseas Workers Welfare Administration para sa gastusin ng mga nagbabalik na Filipino migrant workers na obligadong panatilihin muna sa quarantine hotels.\n",
            "Bansa\n",
            "------------------\n",
            "PDP-Laban hinimok si Duterte na tumakbong VP sa 2022 polls\n",
            "by Joy Cantos\n",
            "Mar 12 (6 days ago)\n",
            "Nagpaikot na ng resolusyon ang mga miyembro ng Partido Demokratiko Pilipino-Laban para himukin si Pangulong Rodrigo Duterte na tumakbong Bise Presidente sa May 2022 national elections sa bansa.\n",
            "Bansa\n",
            "------------------\n",
            "Pagkamatay ng 9 aktibista iimbestigahan\n",
            "by Malou Escudero\n",
            "Mar 12 (6 days ago)\n",
            "Tiniyak kahapon ng Malacañang sa European Union na magkakaroon ng imbestigasyon sa pagkamatay ng mga aktibista sa Calabar-zon noong Marso 7, 2021.\n",
            "Bansa\n",
            "------------------\n",
            "Special court sa mga pulis na nililitis, itinutulak\n",
            "by Gemma Garcia\n",
            "Mar 12 (6 days ago)\n",
            "Isinusulong ni Sen. Richard Gordon ang panukalang pagtatatag ng special court na lilitis sa mga awtoridad na mayroong kasong pang-aabuso.\n",
            "Bansa\n",
            "------------------\n",
            "Body camera ng mga pulis magagamit na sa Abril\n",
            "by Malou Escudero\n",
            "Mar 12 (6 days ago)\n",
            "Magagamit na sa Abril ang mga body came­ras na ilalaan para sa mga police operations.\n",
            "Bansa\n",
            "------------------\n",
            "State of emergency ideklara para maibangon ang hog industry, mapababa ang presyo ng karneng baboy\n",
            "by Gemma Garcia\n",
            "Mar 12 (6 days ago)\n",
            "Hiniling ni Sen. Francis “Kiko” Pangilinan sa Department of Agriculture na irekomenda sa Pangulo na magdeklara ng state of emergency sa buong bansa upang maibangon ang industriya ng baboy na lugmok na sa P50 bilyong pagkalugi dahil sa African swine fever at mapababa ang presyo nito sa merkado.\n",
            "Bansa\n",
            "------------------\n",
            "Comelec, SC buildings sarado muna\n",
            "by Danilo Garcia\n",
            "Mar 12 (6 days ago)\n",
            "Pansamantalang sa-ra­do muna ang mga tanggapan ng Supreme Court at Commission on Elections na parehong kailangang isa-ilalim sa disinfection at sanitation para makaiwas sa pagkalat ng COVID-19.\n",
            "Bansa\n",
            "------------------\n",
            "Joy, Vico at Isko nanguna sa NCR Mayor survey\n",
            "by Mer Layson\n",
            "Mar 12 (6 days ago)\n",
            "Muling nanguna sa survey si Quezon City Mayor Joy Belmonte sa pagganap sa kanyang tungkulin bilang local chief executive sa National Capital Region.\n",
            "Bansa\n",
            "------------------\n",
            "Duterte aminado na mahirap ipatupad ang social distancing\n",
            "by Malou Escudero\n",
            "Mar 12 (6 days ago)\n",
            "Mismong si Pangulong Rodrigo Duterte ay aminado na mahirap ipatupad ang social distancing dahil sa dami ng tao sa Pilipinas lalo na sa Metro Manila.\n",
            "Bansa\n",
            "------------------\n",
            "Bong Go sa 2022 election talks: Count me out\n",
            "Mar 12 (6 days ago)\n",
            "Muling idiniin ni Senator Christopher “Bong” Go ang nauna niyang apela na huwag siyang isali sa mga posibleng tatakbo sa mas mataas na posisyon sa darating na pambansang halalan sa Mayo 2022 sa pagsasabing mas nakatutok siya ngayon sa pagtulong sa marami nating kababayan para makabangon sa pagkakalugmok sa pandemya.\n",
            "Bansa\n",
            "------------------\n",
            "5.1 magnitude na lindol niyanig katubigan malapit sa Zambales\n",
            "Mar 11 (1 week ago)\n",
            "Isang 5.1 magnitude na lindol ang yumugtog malapit sa kapuluan ng Luzon, ayon sa pinakabagong ulat ng Philippine Institute of Volcanology and Seismology (Phivolcs), Huwebes ng hapon.\n",
            "Bansa\n",
            "------------------\n",
            "New COVID-19 cases sa bansa nasa 3,749, highest sa halos kalahating taon\n",
            "Mar 11 (1 week ago)\n",
            "Nakapag-ulat ang Department of Health (DOH) ng 3,749 bagong kaso ng coronavirus disease (COVID-19) ngayong Huwebes, bagay na nag-aakyat sa kabuuang local infections sa 607,048.\n",
            "Bansa\n",
            "------------------\n",
            "DND sa UN rights body, mga aktibista: Tumahimik muna sa patayan sa Calabarzon\n",
            "by James Relativo\n",
            "Mar 11 (1 week ago)\n",
            "Dismayado ang Department of National Defense (DND) sa pag-iingay ng United Nations sa \"Bloody Sunday\" killings ng Philippine National Police (PNP) sa Timog Katagalugan kamakailan habang sinisiyasat pa ng otoridad kung may mga iregularidad dito laban sa mga progresibo.\n",
            "Bansa\n",
            "------------------\n",
            "‘Public display of affection’ bawal muna – PNP\n",
            "by Doris Franche\n",
            "Mar 11 (1 week ago)\n",
            "Upang maiwasan ang pagkakahawa-hawa, pinagbabawal muna ni PNP Chief, Gen. Debold Sinas sa mga magsing-irog, mag-asawa, magkapatid at magkaibigan ang PDA o public display of affection at ang paghaha-wak-kamay at akbayan sa publiko.\n",
            "Bansa\n",
            "------------------\n",
            "50 milyong Pinoy target bakunahan ngayong taon\n",
            "by Malou Escudero\n",
            "Mar 11 (1 week ago)\n",
            "Target ng gobyerno na mabakunahan ang nasa 50 milyong Filipino ngayong taon, ayon kay Secretary Vince Dizon.\n",
            "Bansa\n",
            "------------------\n",
            "Pagpapakalat ng sundalo, pulis ok sa Senado\n",
            "by Gemma Garcia\n",
            "Mar 11 (1 week ago)\n",
            "Suportado nina Se-nate President Vicente Sotto III at Sen. Panfilo Lacson ang plano na muling magpakalat ng mga pulis at sundalo para magpatupad ng quarantine minimum health standards sa gitna ng pagtaas sa kaso ng COVID-19.\n",
            "Bansa\n",
            "------------------\n",
            "117K doses ng Pfizer darating sa Abril\n",
            "by Malou Escudero\n",
            "Mar 11 (1 week ago)\n",
            "Nasa 117,000 doses ng bakuna kontra sa COVID-19 na gawa ng Pfizer ang inaasahang darating sa susunod na buwan.\n",
            "Bansa\n",
            "------------------\n",
            "Brazilian variant wala pa sa Pinas – DOH\n",
            "by Danilo Garcia\n",
            "Mar 11 (1 week ago)\n",
            "Nilinaw kahapon ng Department of Health (DOH) na wala pang naitatalang Brazilian variant ng COVID-19 ang Pilipinas.\n",
            "Bansa\n",
            "------------------\n",
            "COVID-19 case, 9 na beses tataas ‘pag dumami pa ang may UK variant\n",
            "by Malou Escudero\n",
            "Mar 11 (1 week ago)\n",
            "Nagbabala kahapon ang isang eksperto na siyam na beses na tataas ang bilang ng mga may COVID-19 kung magiging dominant strain o 50% ng kaso ay sanhi ng UK variant.\n",
            "Bansa\n",
            "------------------\n",
            "Calbayog mayor kahit patay na, niratrat pa\n",
            "by Joy Cantos\n",
            "Mar 11 (1 week ago)\n",
            "Nakunan pa ng vi-deo ang mga PNP ope­ratives na binalikan at niratrat muli ang patay ng alkalde ng Calbayog City, Samar matapos na tambangan noong Lunes.\n",
            "Bansa\n",
            "------------------\n",
            "‘Go-Duterte’ nanguna sa presidential, vice presidential survey\n",
            "by Angie dela Cruz\n",
            "Mar 11 (1 week ago)\n",
            "Kapwa mananalo bilang Pangulo at Panga­lawang Pangulo ng bansa sina Pangulong Rodrigo Duterte at Sen. Christopher Lawrence “Bong” Go kung ngayon gagawin ang eleksyon.\n",
            "Bansa\n"
          ],
          "name": "stdout"
        }
      ]
    },
    {
      "cell_type": "code",
      "metadata": {
        "colab": {
          "base_uri": "https://localhost:8080/"
        },
        "id": "2Yp-5v7T1J6x",
        "outputId": "74f4111d-7685-411b-b6aa-c5dfd3f89735"
      },
      "source": [
        "import re\r\n",
        "from collections import OrderedDict as od\r\n",
        "import json\r\n",
        "\r\n",
        "news_json = []\r\n",
        "\r\n",
        "for news in elements:\r\n",
        "  date = re.sub(\"\\((\\w|\\s)*\\)\", \"\", news.find_element(By.CLASS_NAME, \"microsite_article_date\").text)\r\n",
        "  title = news.find_element(By.CLASS_NAME, \"microsite_article_title\").text\r\n",
        "  article = news.find_element(By.CLASS_NAME, \"microsite_article_summary\").text\r\n",
        "  try:\r\n",
        "    author = re.sub(\"by\\s\", \"\", news.find_element(By.CLASS_NAME, \"microsite_article_author\").text)\r\n",
        "    news_json.append(json.dumps(od(\r\n",
        "        [(\"date\", date),\r\n",
        "         (\"title\", title),\r\n",
        "         (\"article\", article),\r\n",
        "         (\"author\", author)]\r\n",
        "    )))\r\n",
        "  except:\r\n",
        "    news_json.append(json.dumps(od(\r\n",
        "        [(\"date\", date),\r\n",
        "         (\"title\", title),\r\n",
        "         (\"article\", article),\r\n",
        "         (\"author\", \"\")]\r\n",
        "    )))\r\n",
        "news_json"
      ],
      "execution_count": 118,
      "outputs": [
        {
          "output_type": "execute_result",
          "data": {
            "text/plain": [
              "['{\"date\": \"Mar 12 \", \"title\": \"11 sa 17 Metro Manila LGUs may COVID-19 variant na unang nakita sa UK\", \"article\": \"Napasok na ng mga mas nakahahawang coronavirus disease (COVID-19) variants ang karamihan sa mga local government units (LGUs) ng National Capital Region (NCR), paglalahad ng Kagawaran ng Kalusugan sa media ngayong Biyernes.\", \"author\": \"James Relativo\"}',\n",
              " '{\"date\": \"Mar 12 \", \"title\": \"Bagong hawa ng COVID-19 sa \\'Pinas nasa 4,578, pinakamataas sa 180 araw\", \"article\": \"Nakapagtala ng dadag na 4,578 bagong kaso ng coronavirus disease (COVID-19) ngayong Biyernes ang Department of Health (DOH), kung kaya\\'t napatalon na sa 546,912 ang nahahawaan nito ngayon sa Pilipinas.\", \"author\": \"\"}',\n",
              " '{\"date\": \"Mar 12 \", \"title\": \"Eleazar mangunguna sa PNP habang Sinas positibo sa COVID-19\", \"article\": \"Hahalili muna bilang pinuno ng Philippine National Police (PNP) ang isang top police official pang habang nagpapagaling sa coronavirus disease (COVID-19) ang hepe ng mga alagad ng batas.\", \"author\": \"\"}',\n",
              " '{\"date\": \"Mar 12 \", \"title\": \"Bagong $900-M utang mula dayuhan ibubuhos sa COVID-19 jabs ng Pilipinas\", \"article\": \"Aabot sa halos $1 bilyong utang mula sa international financial institutions ang natiyak ng Pilipinas para punan ang coronavirus disease (COVID-19) response nito.\", \"author\": \"James Relativo\"}',\n",
              " '{\"date\": \"Mar 12 \", \"title\": \"UK variant, 40% mas mabilis na makahawa\", \"article\": \"Higit na nakakaha-wa ng 40 porsyento ang United Kingdom variant ng COVID-19, ayon sa UP-Philippine Genome Center.\", \"author\": \"Danilo Garcia\"}',\n",
              " '{\"date\": \"Mar 12 \", \"title\": \"30 milyong doses ng Novavax darating sa second o third quarter ng taon\", \"article\": \"Tiniyak kahapon ng ambassador ng India sa Pilipinas na may darating na 30 milyong doses ng bakuna laban sa COVID-19 sa ikalawa o ikatlong quarter ng taon.\", \"author\": \"Malou Escudero\"}',\n",
              " '{\"date\": \"Mar 12 \", \"title\": \"Healthcare workers na dinadapuan ng COVID-19, tumataas\", \"article\": \"Nadaragdagan ang bilang ng mga healthcare workers na dinadapuan ng COVID-19 habang ilang ospital na rin ang nakararanas ng kakapusan sa kanilang COVID beds dahil sa pagdami ng kaso sa lungsod ng Maynila.\", \"author\": \"Danilo Garcia\"}',\n",
              " '{\"date\": \"Mar 12 \", \"title\": \"P10 bilyong dagdag budget hingi ng OWWA sa quarantine hotels ng returning OFWs\", \"article\": \"Humihingi ng P10-bilyong dagdag budget sa Kongreso ang Overseas Workers Welfare Administration para sa gastusin ng mga nagbabalik na Filipino migrant workers na obligadong panatilihin muna sa quarantine hotels.\", \"author\": \"Ludy Bermudo\"}',\n",
              " '{\"date\": \"Mar 12 \", \"title\": \"PDP-Laban hinimok si Duterte na tumakbong VP sa 2022 polls\", \"article\": \"Nagpaikot na ng resolusyon ang mga miyembro ng Partido Demokratiko Pilipino-Laban para himukin si Pangulong Rodrigo Duterte na tumakbong Bise Presidente sa May 2022 national elections sa bansa.\", \"author\": \"Joy Cantos\"}',\n",
              " '{\"date\": \"Mar 12 \", \"title\": \"Pagkamatay ng 9 aktibista iimbestigahan\", \"article\": \"Tiniyak kahapon ng Malaca\\\\u00f1ang sa European Union na magkakaroon ng imbestigasyon sa pagkamatay ng mga aktibista sa Calabar-zon noong Marso 7, 2021.\", \"author\": \"Malou Escudero\"}',\n",
              " '{\"date\": \"Mar 12 \", \"title\": \"Special court sa mga pulis na nililitis, itinutulak\", \"article\": \"Isinusulong ni Sen. Richard Gordon ang panukalang pagtatatag ng special court na lilitis sa mga awtoridad na mayroong kasong pang-aabuso.\", \"author\": \"Gemma Garcia\"}',\n",
              " '{\"date\": \"Mar 12 \", \"title\": \"Body camera ng mga pulis magagamit na sa Abril\", \"article\": \"Magagamit na sa Abril ang mga body came\\\\u00adras na ilalaan para sa mga police operations.\", \"author\": \"Malou Escudero\"}',\n",
              " '{\"date\": \"Mar 12 \", \"title\": \"State of emergency ideklara para maibangon ang hog industry, mapababa ang presyo ng karneng baboy\", \"article\": \"Hiniling ni Sen. Francis \\\\u201cKiko\\\\u201d Pangilinan sa Department of Agriculture na irekomenda sa Pangulo na magdeklara ng state of emergency sa buong bansa upang maibangon ang industriya ng baboy na lugmok na sa P50 bilyong pagkalugi dahil sa African swine fever at mapababa ang presyo nito sa merkado.\", \"author\": \"Gemma Garcia\"}',\n",
              " '{\"date\": \"Mar 12 \", \"title\": \"Comelec, SC buildings sarado muna\", \"article\": \"Pansamantalang sa-ra\\\\u00addo muna ang mga tanggapan ng Supreme Court at Commission on Elections na parehong kailangang isa-ilalim sa disinfection at sanitation para makaiwas sa pagkalat ng COVID-19.\", \"author\": \"Danilo Garcia\"}',\n",
              " '{\"date\": \"Mar 12 \", \"title\": \"Joy, Vico at Isko nanguna sa NCR Mayor survey\", \"article\": \"Muling nanguna sa survey si Quezon City Mayor Joy Belmonte sa pagganap sa kanyang tungkulin bilang local chief executive sa National Capital Region.\", \"author\": \"Mer Layson\"}',\n",
              " '{\"date\": \"Mar 12 \", \"title\": \"Duterte aminado na mahirap ipatupad ang social distancing\", \"article\": \"Mismong si Pangulong Rodrigo Duterte ay aminado na mahirap ipatupad ang social distancing dahil sa dami ng tao sa Pilipinas lalo na sa Metro Manila.\", \"author\": \"Malou Escudero\"}',\n",
              " '{\"date\": \"Mar 12 \", \"title\": \"Bong Go sa 2022 election talks: Count me out\", \"article\": \"Muling idiniin ni Senator Christopher \\\\u201cBong\\\\u201d Go ang nauna niyang apela na huwag siyang isali sa mga posibleng tatakbo sa mas mataas na posisyon sa darating na pambansang halalan sa Mayo 2022 sa pagsasabing mas nakatutok siya ngayon sa pagtulong sa marami nating kababayan para makabangon sa pagkakalugmok sa pandemya.\", \"author\": \"\"}',\n",
              " '{\"date\": \"Mar 11 \", \"title\": \"5.1 magnitude na lindol niyanig katubigan malapit sa Zambales\", \"article\": \"Isang 5.1 magnitude na lindol ang yumugtog malapit sa kapuluan ng Luzon, ayon sa pinakabagong ulat ng Philippine Institute of Volcanology and Seismology (Phivolcs), Huwebes ng hapon.\", \"author\": \"\"}',\n",
              " '{\"date\": \"Mar 11 \", \"title\": \"New COVID-19 cases sa bansa nasa 3,749, highest sa halos kalahating taon\", \"article\": \"Nakapag-ulat ang Department of Health (DOH) ng 3,749 bagong kaso ng coronavirus disease (COVID-19) ngayong Huwebes, bagay na nag-aakyat sa kabuuang local infections sa 607,048.\", \"author\": \"\"}',\n",
              " '{\"date\": \"Mar 11 \", \"title\": \"DND sa UN rights body, mga aktibista: Tumahimik muna sa patayan sa Calabarzon\", \"article\": \"Dismayado ang Department of National Defense (DND) sa pag-iingay ng United Nations sa \\\\\"Bloody Sunday\\\\\" killings ng Philippine National Police (PNP) sa Timog Katagalugan kamakailan habang sinisiyasat pa ng otoridad kung may mga iregularidad dito laban sa mga progresibo.\", \"author\": \"James Relativo\"}',\n",
              " '{\"date\": \"Mar 11 \", \"title\": \"\\\\u2018Public display of affection\\\\u2019 bawal muna \\\\u2013 PNP\", \"article\": \"Upang maiwasan ang pagkakahawa-hawa, pinagbabawal muna ni PNP Chief, Gen. Debold Sinas sa mga magsing-irog, mag-asawa, magkapatid at magkaibigan ang PDA o public display of affection at ang paghaha-wak-kamay at akbayan sa publiko.\", \"author\": \"Doris Franche\"}',\n",
              " '{\"date\": \"Mar 11 \", \"title\": \"50 milyong Pinoy target bakunahan ngayong taon\", \"article\": \"Target ng gobyerno na mabakunahan ang nasa 50 milyong Filipino ngayong taon, ayon kay Secretary Vince Dizon.\", \"author\": \"Malou Escudero\"}',\n",
              " '{\"date\": \"Mar 11 \", \"title\": \"Pagpapakalat ng sundalo, pulis ok sa Senado\", \"article\": \"Suportado nina Se-nate President Vicente Sotto III at Sen. Panfilo Lacson ang plano na muling magpakalat ng mga pulis at sundalo para magpatupad ng quarantine minimum health standards sa gitna ng pagtaas sa kaso ng COVID-19.\", \"author\": \"Gemma Garcia\"}',\n",
              " '{\"date\": \"Mar 11 \", \"title\": \"117K doses ng Pfizer darating sa Abril\", \"article\": \"Nasa 117,000 doses ng bakuna kontra sa COVID-19 na gawa ng Pfizer ang inaasahang darating sa susunod na buwan.\", \"author\": \"Malou Escudero\"}',\n",
              " '{\"date\": \"Mar 11 \", \"title\": \"Brazilian variant wala pa sa Pinas \\\\u2013 DOH\", \"article\": \"Nilinaw kahapon ng Department of Health (DOH) na wala pang naitatalang Brazilian variant ng COVID-19 ang Pilipinas.\", \"author\": \"Danilo Garcia\"}',\n",
              " '{\"date\": \"Mar 11 \", \"title\": \"COVID-19 case, 9 na beses tataas \\\\u2018pag dumami pa ang may UK variant\", \"article\": \"Nagbabala kahapon ang isang eksperto na siyam na beses na tataas ang bilang ng mga may COVID-19 kung magiging dominant strain o 50% ng kaso ay sanhi ng UK variant.\", \"author\": \"Malou Escudero\"}',\n",
              " '{\"date\": \"Mar 11 \", \"title\": \"Calbayog mayor kahit patay na, niratrat pa\", \"article\": \"Nakunan pa ng vi-deo ang mga PNP ope\\\\u00adratives na binalikan at niratrat muli ang patay ng alkalde ng Calbayog City, Samar matapos na tambangan noong Lunes.\", \"author\": \"Joy Cantos\"}',\n",
              " '{\"date\": \"Mar 11 \", \"title\": \"\\\\u2018Go-Duterte\\\\u2019 nanguna sa presidential, vice presidential survey\", \"article\": \"Kapwa mananalo bilang Pangulo at Panga\\\\u00adlawang Pangulo ng bansa sina Pangulong Rodrigo Duterte at Sen. Christopher Lawrence \\\\u201cBong\\\\u201d Go kung ngayon gagawin ang eleksyon.\", \"author\": \"Angie dela Cruz\"}']"
            ]
          },
          "metadata": {
            "tags": []
          },
          "execution_count": 118
        }
      ]
    },
    {
      "cell_type": "code",
      "metadata": {
        "colab": {
          "base_uri": "https://localhost:8080/",
          "height": 17
        },
        "id": "aqtbWxnD7MhX",
        "outputId": "e538ce52-0eb4-40bc-fd86-258c010a1c3d"
      },
      "source": [
        "from google.colab import files\r\n",
        "\r\n",
        "x = json.dumps(news_json)\r\n",
        "y = x.encode('utf-8')\r\n",
        "with open('news.txt', 'w') as f:\r\n",
        "  f.write(str(y))\r\n",
        "\r\n",
        "files.download('news.txt')"
      ],
      "execution_count": 121,
      "outputs": [
        {
          "output_type": "display_data",
          "data": {
            "application/javascript": [
              "\n",
              "    async function download(id, filename, size) {\n",
              "      if (!google.colab.kernel.accessAllowed) {\n",
              "        return;\n",
              "      }\n",
              "      const div = document.createElement('div');\n",
              "      const label = document.createElement('label');\n",
              "      label.textContent = `Downloading \"${filename}\": `;\n",
              "      div.appendChild(label);\n",
              "      const progress = document.createElement('progress');\n",
              "      progress.max = size;\n",
              "      div.appendChild(progress);\n",
              "      document.body.appendChild(div);\n",
              "\n",
              "      const buffers = [];\n",
              "      let downloaded = 0;\n",
              "\n",
              "      const channel = await google.colab.kernel.comms.open(id);\n",
              "      // Send a message to notify the kernel that we're ready.\n",
              "      channel.send({})\n",
              "\n",
              "      for await (const message of channel.messages) {\n",
              "        // Send a message to notify the kernel that we're ready.\n",
              "        channel.send({})\n",
              "        if (message.buffers) {\n",
              "          for (const buffer of message.buffers) {\n",
              "            buffers.push(buffer);\n",
              "            downloaded += buffer.byteLength;\n",
              "            progress.value = downloaded;\n",
              "          }\n",
              "        }\n",
              "      }\n",
              "      const blob = new Blob(buffers, {type: 'application/binary'});\n",
              "      const a = document.createElement('a');\n",
              "      a.href = window.URL.createObjectURL(blob);\n",
              "      a.download = filename;\n",
              "      div.appendChild(a);\n",
              "      a.click();\n",
              "      div.remove();\n",
              "    }\n",
              "  "
            ],
            "text/plain": [
              "<IPython.core.display.Javascript object>"
            ]
          },
          "metadata": {
            "tags": []
          }
        },
        {
          "output_type": "display_data",
          "data": {
            "application/javascript": [
              "download(\"download_15edc294-e30f-408c-bc91-f005d2468ea9\", \"news.txt\", 9756)"
            ],
            "text/plain": [
              "<IPython.core.display.Javascript object>"
            ]
          },
          "metadata": {
            "tags": []
          }
        }
      ]
    }
  ]
}